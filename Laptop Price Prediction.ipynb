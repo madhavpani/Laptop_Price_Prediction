{
 "cells": [
  {
   "cell_type": "markdown",
   "id": "7323714f-9a2a-4ffa-84d2-835360c082d9",
   "metadata": {},
   "source": [
    "## Laptop Price Prediction"
   ]
  },
  {
   "cell_type": "markdown",
   "id": "bc51e8bc-2dce-4d01-baa9-bc2b5e6083aa",
   "metadata": {},
   "source": [
    "#### Import Libraries"
   ]
  },
  {
   "cell_type": "code",
   "execution_count": 1,
   "id": "c2dcc1d1-0e59-4d37-8060-03bf3522e6c1",
   "metadata": {},
   "outputs": [],
   "source": [
    "import pandas as pd\n",
    "import numpy as np\n",
    "import seaborn as sns\n",
    "import matplotlib.pyplot as plt"
   ]
  },
  {
   "cell_type": "code",
   "execution_count": 2,
   "id": "ca1fa7d2-5999-402d-aa07-f7105d3ba3ef",
   "metadata": {},
   "outputs": [],
   "source": [
    "import warnings\n",
    "warnings.filterwarnings('ignore')"
   ]
  },
  {
   "cell_type": "markdown",
   "id": "9d75115d-28ad-4c52-8494-d353d28595f1",
   "metadata": {},
   "source": [
    "#### Import Dataset"
   ]
  },
  {
   "cell_type": "code",
   "execution_count": 3,
   "id": "65fde2eb-7585-4b56-a0d2-2b7f20588a01",
   "metadata": {},
   "outputs": [
    {
     "data": {
      "text/html": [
       "<div>\n",
       "<style scoped>\n",
       "    .dataframe tbody tr th:only-of-type {\n",
       "        vertical-align: middle;\n",
       "    }\n",
       "\n",
       "    .dataframe tbody tr th {\n",
       "        vertical-align: top;\n",
       "    }\n",
       "\n",
       "    .dataframe thead th {\n",
       "        text-align: right;\n",
       "    }\n",
       "</style>\n",
       "<table border=\"1\" class=\"dataframe\">\n",
       "  <thead>\n",
       "    <tr style=\"text-align: right;\">\n",
       "      <th></th>\n",
       "      <th>Company</th>\n",
       "      <th>Product</th>\n",
       "      <th>TypeName</th>\n",
       "      <th>Inches</th>\n",
       "      <th>ScreenResolution</th>\n",
       "      <th>CPU_Company</th>\n",
       "      <th>CPU_Type</th>\n",
       "      <th>CPU_Frequency (GHz)</th>\n",
       "      <th>RAM (GB)</th>\n",
       "      <th>Memory</th>\n",
       "      <th>GPU_Company</th>\n",
       "      <th>GPU_Type</th>\n",
       "      <th>OpSys</th>\n",
       "      <th>Weight (kg)</th>\n",
       "      <th>Price (Euro)</th>\n",
       "    </tr>\n",
       "  </thead>\n",
       "  <tbody>\n",
       "    <tr>\n",
       "      <th>0</th>\n",
       "      <td>Apple</td>\n",
       "      <td>MacBook Pro</td>\n",
       "      <td>Ultrabook</td>\n",
       "      <td>13.3</td>\n",
       "      <td>IPS Panel Retina Display 2560x1600</td>\n",
       "      <td>Intel</td>\n",
       "      <td>Core i5</td>\n",
       "      <td>2.3</td>\n",
       "      <td>8</td>\n",
       "      <td>128GB SSD</td>\n",
       "      <td>Intel</td>\n",
       "      <td>Iris Plus Graphics 640</td>\n",
       "      <td>macOS</td>\n",
       "      <td>1.37</td>\n",
       "      <td>1339.69</td>\n",
       "    </tr>\n",
       "    <tr>\n",
       "      <th>1</th>\n",
       "      <td>Apple</td>\n",
       "      <td>Macbook Air</td>\n",
       "      <td>Ultrabook</td>\n",
       "      <td>13.3</td>\n",
       "      <td>1440x900</td>\n",
       "      <td>Intel</td>\n",
       "      <td>Core i5</td>\n",
       "      <td>1.8</td>\n",
       "      <td>8</td>\n",
       "      <td>128GB Flash Storage</td>\n",
       "      <td>Intel</td>\n",
       "      <td>HD Graphics 6000</td>\n",
       "      <td>macOS</td>\n",
       "      <td>1.34</td>\n",
       "      <td>898.94</td>\n",
       "    </tr>\n",
       "    <tr>\n",
       "      <th>2</th>\n",
       "      <td>HP</td>\n",
       "      <td>250 G6</td>\n",
       "      <td>Notebook</td>\n",
       "      <td>15.6</td>\n",
       "      <td>Full HD 1920x1080</td>\n",
       "      <td>Intel</td>\n",
       "      <td>Core i5 7200U</td>\n",
       "      <td>2.5</td>\n",
       "      <td>8</td>\n",
       "      <td>256GB SSD</td>\n",
       "      <td>Intel</td>\n",
       "      <td>HD Graphics 620</td>\n",
       "      <td>No OS</td>\n",
       "      <td>1.86</td>\n",
       "      <td>575.00</td>\n",
       "    </tr>\n",
       "  </tbody>\n",
       "</table>\n",
       "</div>"
      ],
      "text/plain": [
       "  Company      Product   TypeName  Inches                    ScreenResolution  \\\n",
       "0   Apple  MacBook Pro  Ultrabook    13.3  IPS Panel Retina Display 2560x1600   \n",
       "1   Apple  Macbook Air  Ultrabook    13.3                            1440x900   \n",
       "2      HP       250 G6   Notebook    15.6                   Full HD 1920x1080   \n",
       "\n",
       "  CPU_Company       CPU_Type  CPU_Frequency (GHz)  RAM (GB)  \\\n",
       "0       Intel        Core i5                  2.3         8   \n",
       "1       Intel        Core i5                  1.8         8   \n",
       "2       Intel  Core i5 7200U                  2.5         8   \n",
       "\n",
       "                Memory GPU_Company                GPU_Type  OpSys  \\\n",
       "0            128GB SSD       Intel  Iris Plus Graphics 640  macOS   \n",
       "1  128GB Flash Storage       Intel        HD Graphics 6000  macOS   \n",
       "2            256GB SSD       Intel         HD Graphics 620  No OS   \n",
       "\n",
       "   Weight (kg)  Price (Euro)  \n",
       "0         1.37       1339.69  \n",
       "1         1.34        898.94  \n",
       "2         1.86        575.00  "
      ]
     },
     "execution_count": 3,
     "metadata": {},
     "output_type": "execute_result"
    }
   ],
   "source": [
    "laptop_df = pd.read_csv('laptop_price - dataset.csv')\n",
    "laptop_df.head(3)"
   ]
  },
  {
   "cell_type": "markdown",
   "id": "9a2be53b-e1aa-4760-b833-67d2ef3fe9ef",
   "metadata": {},
   "source": [
    "#### Shape"
   ]
  },
  {
   "cell_type": "code",
   "execution_count": 4,
   "id": "2e3d0f3e-1741-493f-ad8d-8478c474b4f4",
   "metadata": {},
   "outputs": [
    {
     "data": {
      "text/plain": [
       "(1275, 15)"
      ]
     },
     "execution_count": 4,
     "metadata": {},
     "output_type": "execute_result"
    }
   ],
   "source": [
    "laptop_df.shape"
   ]
  },
  {
   "cell_type": "markdown",
   "id": "39dc7005-f193-4250-8412-44960c327ee7",
   "metadata": {},
   "source": [
    "#### Columns"
   ]
  },
  {
   "cell_type": "code",
   "execution_count": 5,
   "id": "82beaa36-17af-442e-b8cc-fafd6afd736d",
   "metadata": {},
   "outputs": [
    {
     "data": {
      "text/plain": [
       "Index(['Company', 'Product', 'TypeName', 'Inches', 'ScreenResolution',\n",
       "       'CPU_Company', 'CPU_Type', 'CPU_Frequency (GHz)', 'RAM (GB)', 'Memory',\n",
       "       'GPU_Company', 'GPU_Type', 'OpSys', 'Weight (kg)', 'Price (Euro)'],\n",
       "      dtype='object')"
      ]
     },
     "execution_count": 5,
     "metadata": {},
     "output_type": "execute_result"
    }
   ],
   "source": [
    "laptop_df.columns"
   ]
  },
  {
   "cell_type": "markdown",
   "id": "40628df2-b196-43a3-9cc7-c44b8d2bfa7b",
   "metadata": {},
   "source": [
    "#### Categorical Columns"
   ]
  },
  {
   "cell_type": "code",
   "execution_count": 6,
   "id": "4e89b3b0-a916-46a7-ac14-1f3807ecf823",
   "metadata": {},
   "outputs": [
    {
     "data": {
      "text/plain": [
       "Index(['Company', 'Product', 'TypeName', 'ScreenResolution', 'CPU_Company',\n",
       "       'CPU_Type', 'Memory', 'GPU_Company', 'GPU_Type', 'OpSys'],\n",
       "      dtype='object')"
      ]
     },
     "execution_count": 6,
     "metadata": {},
     "output_type": "execute_result"
    }
   ],
   "source": [
    "cat_cols = laptop_df.select_dtypes(include='object').columns\n",
    "cat_cols"
   ]
  },
  {
   "cell_type": "markdown",
   "id": "599b7856-911a-47fe-bcaf-d76f2b26f8df",
   "metadata": {},
   "source": [
    "#### Numerical Columns"
   ]
  },
  {
   "cell_type": "code",
   "execution_count": 7,
   "id": "545e5765-e89d-421a-a771-d263318ce7ef",
   "metadata": {},
   "outputs": [
    {
     "data": {
      "text/plain": [
       "Index(['Inches', 'CPU_Frequency (GHz)', 'RAM (GB)', 'Weight (kg)',\n",
       "       'Price (Euro)'],\n",
       "      dtype='object')"
      ]
     },
     "execution_count": 7,
     "metadata": {},
     "output_type": "execute_result"
    }
   ],
   "source": [
    "num_cols = laptop_df.select_dtypes(include='number').columns\n",
    "num_cols"
   ]
  },
  {
   "cell_type": "markdown",
   "id": "0b35ed1a-9daa-4e55-8411-4fa9eb4d68b6",
   "metadata": {},
   "source": [
    "#### DataFrame Information"
   ]
  },
  {
   "cell_type": "code",
   "execution_count": 8,
   "id": "523bcec2-5d55-4a68-88e1-5e9f12d88f3a",
   "metadata": {},
   "outputs": [
    {
     "name": "stdout",
     "output_type": "stream",
     "text": [
      "<class 'pandas.core.frame.DataFrame'>\n",
      "RangeIndex: 1275 entries, 0 to 1274\n",
      "Data columns (total 15 columns):\n",
      " #   Column               Non-Null Count  Dtype  \n",
      "---  ------               --------------  -----  \n",
      " 0   Company              1275 non-null   object \n",
      " 1   Product              1275 non-null   object \n",
      " 2   TypeName             1275 non-null   object \n",
      " 3   Inches               1275 non-null   float64\n",
      " 4   ScreenResolution     1275 non-null   object \n",
      " 5   CPU_Company          1275 non-null   object \n",
      " 6   CPU_Type             1275 non-null   object \n",
      " 7   CPU_Frequency (GHz)  1275 non-null   float64\n",
      " 8   RAM (GB)             1275 non-null   int64  \n",
      " 9   Memory               1275 non-null   object \n",
      " 10  GPU_Company          1275 non-null   object \n",
      " 11  GPU_Type             1275 non-null   object \n",
      " 12  OpSys                1275 non-null   object \n",
      " 13  Weight (kg)          1275 non-null   float64\n",
      " 14  Price (Euro)         1275 non-null   float64\n",
      "dtypes: float64(4), int64(1), object(10)\n",
      "memory usage: 149.5+ KB\n"
     ]
    }
   ],
   "source": [
    "laptop_df.info()"
   ]
  },
  {
   "cell_type": "markdown",
   "id": "7a3044d6-2363-48e1-b213-1cb2762a29f8",
   "metadata": {},
   "source": [
    "## Data Cleaning"
   ]
  },
  {
   "cell_type": "markdown",
   "id": "ce2d502a-ec2f-4b1f-a07d-1c03b806e2af",
   "metadata": {},
   "source": [
    "#### Remove Duplicates"
   ]
  },
  {
   "cell_type": "code",
   "execution_count": 9,
   "id": "919b1368-45f6-4501-b82a-11a370b8ae9d",
   "metadata": {},
   "outputs": [
    {
     "data": {
      "text/plain": [
       "0"
      ]
     },
     "execution_count": 9,
     "metadata": {},
     "output_type": "execute_result"
    }
   ],
   "source": [
    "laptop_df.duplicated().sum()"
   ]
  },
  {
   "cell_type": "markdown",
   "id": "a3a001b2-ae1b-42aa-b9c0-e3a4ea148c86",
   "metadata": {},
   "source": [
    "#### Remove Nulls"
   ]
  },
  {
   "cell_type": "code",
   "execution_count": 10,
   "id": "addcc855-3e50-4504-b400-4a80a9f347d1",
   "metadata": {},
   "outputs": [
    {
     "data": {
      "text/plain": [
       "Company                0\n",
       "Product                0\n",
       "TypeName               0\n",
       "Inches                 0\n",
       "ScreenResolution       0\n",
       "CPU_Company            0\n",
       "CPU_Type               0\n",
       "CPU_Frequency (GHz)    0\n",
       "RAM (GB)               0\n",
       "Memory                 0\n",
       "GPU_Company            0\n",
       "GPU_Type               0\n",
       "OpSys                  0\n",
       "Weight (kg)            0\n",
       "Price (Euro)           0\n",
       "dtype: int64"
      ]
     },
     "execution_count": 10,
     "metadata": {},
     "output_type": "execute_result"
    }
   ],
   "source": [
    "laptop_df.isnull().sum()"
   ]
  },
  {
   "cell_type": "markdown",
   "id": "512db885-2339-4b22-90f9-e4a00fc9d78d",
   "metadata": {},
   "source": [
    "#### Columns Standardization"
   ]
  },
  {
   "cell_type": "code",
   "execution_count": 11,
   "id": "cd8f3f13-58f4-4d00-bb80-1b9766dc3f94",
   "metadata": {},
   "outputs": [
    {
     "data": {
      "text/plain": [
       "array(['Apple', 'HP', 'Acer', 'Asus', 'Dell', 'Lenovo', 'Chuwi', 'MSI',\n",
       "       'Microsoft', 'Toshiba', 'Huawei', 'Xiaomi', 'Vero', 'Razer',\n",
       "       'Mediacom', 'Samsung', 'Google', 'Fujitsu', 'LG'], dtype=object)"
      ]
     },
     "execution_count": 11,
     "metadata": {},
     "output_type": "execute_result"
    }
   ],
   "source": [
    "laptop_df['Company'].unique()"
   ]
  },
  {
   "cell_type": "code",
   "execution_count": 12,
   "id": "60d71693-f03e-406e-9ebe-67f314856265",
   "metadata": {},
   "outputs": [
    {
     "data": {
      "text/plain": [
       "array(['Ultrabook', 'Notebook', 'Netbook', 'Gaming', '2 in 1 Convertible',\n",
       "       'Workstation'], dtype=object)"
      ]
     },
     "execution_count": 12,
     "metadata": {},
     "output_type": "execute_result"
    }
   ],
   "source": [
    "laptop_df['TypeName'].unique()"
   ]
  },
  {
   "cell_type": "code",
   "execution_count": 13,
   "id": "b1fa2862-590d-4dde-8ec1-fe12c6769e53",
   "metadata": {},
   "outputs": [
    {
     "data": {
      "text/plain": [
       "array([13.3, 15.6, 15.4, 14. , 12. , 11.6, 17.3, 10.1, 13.5, 12.5, 13. ,\n",
       "       18.4, 13.9, 12.3, 17. , 15. , 14.1, 11.3])"
      ]
     },
     "execution_count": 13,
     "metadata": {},
     "output_type": "execute_result"
    }
   ],
   "source": [
    "laptop_df['Inches'].unique()"
   ]
  },
  {
   "cell_type": "code",
   "execution_count": 14,
   "id": "11fa34c1-2b6f-4a27-b23a-906b84d058b1",
   "metadata": {},
   "outputs": [
    {
     "data": {
      "text/plain": [
       "array(['Intel', 'AMD', 'Samsung'], dtype=object)"
      ]
     },
     "execution_count": 14,
     "metadata": {},
     "output_type": "execute_result"
    }
   ],
   "source": [
    "laptop_df['CPU_Company'].unique()"
   ]
  },
  {
   "cell_type": "code",
   "execution_count": 15,
   "id": "e3cb6ebd-1aef-4913-ae09-cf686177721b",
   "metadata": {},
   "outputs": [
    {
     "data": {
      "text/plain": [
       "array([2.3 , 1.8 , 2.5 , 2.7 , 3.1 , 3.  , 2.2 , 1.6 , 2.  , 2.8 , 1.2 ,\n",
       "       2.9 , 2.4 , 1.44, 1.5 , 1.9 , 1.1 , 1.3 , 2.6 , 3.6 , 3.2 , 1.  ,\n",
       "       2.1 , 0.9 , 1.92])"
      ]
     },
     "execution_count": 15,
     "metadata": {},
     "output_type": "execute_result"
    }
   ],
   "source": [
    "laptop_df['CPU_Frequency (GHz)'].unique()"
   ]
  },
  {
   "cell_type": "code",
   "execution_count": 16,
   "id": "ff58ee13-894c-4a69-b624-9c59adcd336e",
   "metadata": {},
   "outputs": [
    {
     "data": {
      "text/plain": [
       "array([ 8, 16,  4,  2, 12,  6, 32, 24, 64], dtype=int64)"
      ]
     },
     "execution_count": 16,
     "metadata": {},
     "output_type": "execute_result"
    }
   ],
   "source": [
    "laptop_df['RAM (GB)'].unique()"
   ]
  },
  {
   "cell_type": "code",
   "execution_count": 17,
   "id": "9a311a00-d300-4687-9cf3-275f13856915",
   "metadata": {},
   "outputs": [
    {
     "data": {
      "text/plain": [
       "array(['Intel', 'AMD', 'Nvidia', 'ARM'], dtype=object)"
      ]
     },
     "execution_count": 17,
     "metadata": {},
     "output_type": "execute_result"
    }
   ],
   "source": [
    "laptop_df['GPU_Company'].unique()"
   ]
  },
  {
   "cell_type": "code",
   "execution_count": 18,
   "id": "b6006892-7205-482c-8989-5a625d793553",
   "metadata": {},
   "outputs": [
    {
     "data": {
      "text/plain": [
       "array(['Intel', 'AMD', 'Nvidia', 'ARM'], dtype=object)"
      ]
     },
     "execution_count": 18,
     "metadata": {},
     "output_type": "execute_result"
    }
   ],
   "source": [
    "laptop_df['GPU_Company'].unique()"
   ]
  },
  {
   "cell_type": "code",
   "execution_count": 19,
   "id": "4dc83dd1-8099-4a30-8123-1b7a1c01f476",
   "metadata": {},
   "outputs": [
    {
     "data": {
      "text/plain": [
       "array(['macOS', 'No OS', 'Windows 10', 'Mac OS X', 'Linux', 'Android',\n",
       "       'Windows 10 S', 'Chrome OS', 'Windows 7'], dtype=object)"
      ]
     },
     "execution_count": 19,
     "metadata": {},
     "output_type": "execute_result"
    }
   ],
   "source": [
    "laptop_df['OpSys'].unique()"
   ]
  },
  {
   "cell_type": "code",
   "execution_count": 20,
   "id": "8d3c83e7-8160-47c1-ab41-7f8ff0488b17",
   "metadata": {},
   "outputs": [],
   "source": [
    "laptop_df['Price (Rupee)'] = laptop_df['Price (Euro)'].apply(lambda x: np.round(x * 88.98, 2))"
   ]
  },
  {
   "cell_type": "code",
   "execution_count": 42,
   "id": "5aa0e8dd-84f3-4fe1-ba63-03c33144e977",
   "metadata": {},
   "outputs": [],
   "source": [
    "laptop_df['Features'] = laptop_df[['Product','ScreenResolution','CPU_Type','Memory','GPU_Type']].sum(axis = 1)"
   ]
  },
  {
   "cell_type": "markdown",
   "id": "de373c7f-2f13-4c71-a040-af1235a68caf",
   "metadata": {},
   "source": [
    "#### Drop Unwanted Columns"
   ]
  },
  {
   "cell_type": "code",
   "execution_count": 21,
   "id": "06744df3-7b0a-45fb-ac91-c767cff65731",
   "metadata": {},
   "outputs": [],
   "source": [
    "laptop_df.drop(columns=['Price (Euro)','Weight (kg)'], inplace=True)"
   ]
  },
  {
   "cell_type": "code",
   "execution_count": 22,
   "id": "5910d068-9b32-4bc8-a8fc-071c89f256ff",
   "metadata": {},
   "outputs": [
    {
     "data": {
      "text/html": [
       "<div>\n",
       "<style scoped>\n",
       "    .dataframe tbody tr th:only-of-type {\n",
       "        vertical-align: middle;\n",
       "    }\n",
       "\n",
       "    .dataframe tbody tr th {\n",
       "        vertical-align: top;\n",
       "    }\n",
       "\n",
       "    .dataframe thead th {\n",
       "        text-align: right;\n",
       "    }\n",
       "</style>\n",
       "<table border=\"1\" class=\"dataframe\">\n",
       "  <thead>\n",
       "    <tr style=\"text-align: right;\">\n",
       "      <th></th>\n",
       "      <th>Company</th>\n",
       "      <th>Product</th>\n",
       "      <th>TypeName</th>\n",
       "      <th>Inches</th>\n",
       "      <th>ScreenResolution</th>\n",
       "      <th>CPU_Company</th>\n",
       "      <th>CPU_Type</th>\n",
       "      <th>CPU_Frequency (GHz)</th>\n",
       "      <th>RAM (GB)</th>\n",
       "      <th>Memory</th>\n",
       "      <th>GPU_Company</th>\n",
       "      <th>GPU_Type</th>\n",
       "      <th>OpSys</th>\n",
       "      <th>Price (Rupee)</th>\n",
       "    </tr>\n",
       "  </thead>\n",
       "  <tbody>\n",
       "    <tr>\n",
       "      <th>0</th>\n",
       "      <td>Apple</td>\n",
       "      <td>MacBook Pro</td>\n",
       "      <td>Ultrabook</td>\n",
       "      <td>13.3</td>\n",
       "      <td>IPS Panel Retina Display 2560x1600</td>\n",
       "      <td>Intel</td>\n",
       "      <td>Core i5</td>\n",
       "      <td>2.3</td>\n",
       "      <td>8</td>\n",
       "      <td>128GB SSD</td>\n",
       "      <td>Intel</td>\n",
       "      <td>Iris Plus Graphics 640</td>\n",
       "      <td>macOS</td>\n",
       "      <td>119205.62</td>\n",
       "    </tr>\n",
       "    <tr>\n",
       "      <th>1</th>\n",
       "      <td>Apple</td>\n",
       "      <td>Macbook Air</td>\n",
       "      <td>Ultrabook</td>\n",
       "      <td>13.3</td>\n",
       "      <td>1440x900</td>\n",
       "      <td>Intel</td>\n",
       "      <td>Core i5</td>\n",
       "      <td>1.8</td>\n",
       "      <td>8</td>\n",
       "      <td>128GB Flash Storage</td>\n",
       "      <td>Intel</td>\n",
       "      <td>HD Graphics 6000</td>\n",
       "      <td>macOS</td>\n",
       "      <td>79987.68</td>\n",
       "    </tr>\n",
       "    <tr>\n",
       "      <th>2</th>\n",
       "      <td>HP</td>\n",
       "      <td>250 G6</td>\n",
       "      <td>Notebook</td>\n",
       "      <td>15.6</td>\n",
       "      <td>Full HD 1920x1080</td>\n",
       "      <td>Intel</td>\n",
       "      <td>Core i5 7200U</td>\n",
       "      <td>2.5</td>\n",
       "      <td>8</td>\n",
       "      <td>256GB SSD</td>\n",
       "      <td>Intel</td>\n",
       "      <td>HD Graphics 620</td>\n",
       "      <td>No OS</td>\n",
       "      <td>51163.50</td>\n",
       "    </tr>\n",
       "  </tbody>\n",
       "</table>\n",
       "</div>"
      ],
      "text/plain": [
       "  Company      Product   TypeName  Inches                    ScreenResolution  \\\n",
       "0   Apple  MacBook Pro  Ultrabook    13.3  IPS Panel Retina Display 2560x1600   \n",
       "1   Apple  Macbook Air  Ultrabook    13.3                            1440x900   \n",
       "2      HP       250 G6   Notebook    15.6                   Full HD 1920x1080   \n",
       "\n",
       "  CPU_Company       CPU_Type  CPU_Frequency (GHz)  RAM (GB)  \\\n",
       "0       Intel        Core i5                  2.3         8   \n",
       "1       Intel        Core i5                  1.8         8   \n",
       "2       Intel  Core i5 7200U                  2.5         8   \n",
       "\n",
       "                Memory GPU_Company                GPU_Type  OpSys  \\\n",
       "0            128GB SSD       Intel  Iris Plus Graphics 640  macOS   \n",
       "1  128GB Flash Storage       Intel        HD Graphics 6000  macOS   \n",
       "2            256GB SSD       Intel         HD Graphics 620  No OS   \n",
       "\n",
       "   Price (Rupee)  \n",
       "0      119205.62  \n",
       "1       79987.68  \n",
       "2       51163.50  "
      ]
     },
     "execution_count": 22,
     "metadata": {},
     "output_type": "execute_result"
    }
   ],
   "source": [
    "laptop_df.head(3)"
   ]
  },
  {
   "cell_type": "markdown",
   "id": "ba145021-b0bc-4d44-bb0e-337fb3f21af4",
   "metadata": {},
   "source": [
    "## EDA"
   ]
  },
  {
   "cell_type": "markdown",
   "id": "50a98a02-bc05-4006-9d2e-fb86eef66cf7",
   "metadata": {},
   "source": [
    "#### Columns : Company, TypeName, Inches, CPU_Company, CPU_Frequency (GHz), RAM (GB), GPU_Company, OpSys"
   ]
  },
  {
   "cell_type": "code",
   "execution_count": 23,
   "id": "8c6650de-9494-4a09-b113-4778ea4b31fc",
   "metadata": {},
   "outputs": [
    {
     "data": {
      "image/png": "[encoded data removed]",
      "text/plain": [
       "<Figure size 1600x900 with 8 Axes>"
      ]
     },
     "metadata": {},
     "output_type": "display_data"
    }
   ],
   "source": [
    "plt.subplots(2, 4, figsize = (16, 9))\n",
    "plt.subplots_adjust(wspace=0.4, hspace=0.8)\n",
    "\n",
    "k = 1\n",
    "for i in ['Company', 'TypeName', 'Inches', 'CPU_Company', 'CPU_Frequency (GHz)', 'RAM (GB)', 'GPU_Company', 'OpSys']:\n",
    "    plt.subplot(2, 4, k)\n",
    "    sns.barplot(x = i, y = 'Price (Rupee)', data = laptop_df)\n",
    "    plt.title(f'{i} vs Price')\n",
    "    plt.xticks(rotation = 90)\n",
    "    k += 1\n",
    "\n",
    "plt.show()"
   ]
  },
  {
   "cell_type": "code",
   "execution_count": 24,
   "id": "4a19f158-9eaa-47b0-9358-9ce8cf7a8a76",
   "metadata": {},
   "outputs": [
    {
     "data": {
      "image/png": "[encoded data removed]",
      "text/plain": [
       "<Figure size 400x400 with 1 Axes>"
      ]
     },
     "metadata": {},
     "output_type": "display_data"
    }
   ],
   "source": [
    "plt.figure(figsize=(4, 4))\n",
    "sns.histplot(x = 'Price (Rupee)', data = laptop_df, kde = True)\n",
    "plt.title('Distribution of Price')\n",
    "plt.xticks(rotation = 45)\n",
    "plt.show()"
   ]
  },
  {
   "cell_type": "markdown",
   "id": "cb46f29c-cf51-4ef2-a294-1a40493ab84a",
   "metadata": {},
   "source": [
    "## Statistics"
   ]
  },
  {
   "cell_type": "markdown",
   "id": "39bf5e38-0921-4a2b-80cf-26db4926983a",
   "metadata": {},
   "source": [
    "#### Quantiles"
   ]
  },
  {
   "cell_type": "code",
   "execution_count": 25,
   "id": "dd10a6ca-f16c-457b-8d9c-d222ce62d10a",
   "metadata": {},
   "outputs": [
    {
     "data": {
      "text/html": [
       "<div>\n",
       "<style scoped>\n",
       "    .dataframe tbody tr th:only-of-type {\n",
       "        vertical-align: middle;\n",
       "    }\n",
       "\n",
       "    .dataframe tbody tr th {\n",
       "        vertical-align: top;\n",
       "    }\n",
       "\n",
       "    .dataframe thead th {\n",
       "        text-align: right;\n",
       "    }\n",
       "</style>\n",
       "<table border=\"1\" class=\"dataframe\">\n",
       "  <thead>\n",
       "    <tr style=\"text-align: right;\">\n",
       "      <th></th>\n",
       "      <th>Inches</th>\n",
       "      <th>CPU_Frequency (GHz)</th>\n",
       "      <th>RAM (GB)</th>\n",
       "      <th>Price (Rupee)</th>\n",
       "    </tr>\n",
       "  </thead>\n",
       "  <tbody>\n",
       "    <tr>\n",
       "      <th>count</th>\n",
       "      <td>1275.000000</td>\n",
       "      <td>1275.000000</td>\n",
       "      <td>1275.000000</td>\n",
       "      <td>1275.000000</td>\n",
       "    </tr>\n",
       "    <tr>\n",
       "      <th>mean</th>\n",
       "      <td>15.022902</td>\n",
       "      <td>2.302980</td>\n",
       "      <td>8.440784</td>\n",
       "      <td>100989.546761</td>\n",
       "    </tr>\n",
       "    <tr>\n",
       "      <th>std</th>\n",
       "      <td>1.429470</td>\n",
       "      <td>0.503846</td>\n",
       "      <td>5.097809</td>\n",
       "      <td>62352.957818</td>\n",
       "    </tr>\n",
       "    <tr>\n",
       "      <th>min</th>\n",
       "      <td>10.100000</td>\n",
       "      <td>0.900000</td>\n",
       "      <td>2.000000</td>\n",
       "      <td>15482.520000</td>\n",
       "    </tr>\n",
       "    <tr>\n",
       "      <th>25%</th>\n",
       "      <td>14.000000</td>\n",
       "      <td>2.000000</td>\n",
       "      <td>4.000000</td>\n",
       "      <td>54188.820000</td>\n",
       "    </tr>\n",
       "    <tr>\n",
       "      <th>50%</th>\n",
       "      <td>15.600000</td>\n",
       "      <td>2.500000</td>\n",
       "      <td>8.000000</td>\n",
       "      <td>88001.220000</td>\n",
       "    </tr>\n",
       "    <tr>\n",
       "      <th>75%</th>\n",
       "      <td>15.600000</td>\n",
       "      <td>2.700000</td>\n",
       "      <td>8.000000</td>\n",
       "      <td>133158.570000</td>\n",
       "    </tr>\n",
       "    <tr>\n",
       "      <th>max</th>\n",
       "      <td>18.400000</td>\n",
       "      <td>3.600000</td>\n",
       "      <td>64.000000</td>\n",
       "      <td>542689.020000</td>\n",
       "    </tr>\n",
       "  </tbody>\n",
       "</table>\n",
       "</div>"
      ],
      "text/plain": [
       "            Inches  CPU_Frequency (GHz)     RAM (GB)  Price (Rupee)\n",
       "count  1275.000000          1275.000000  1275.000000    1275.000000\n",
       "mean     15.022902             2.302980     8.440784  100989.546761\n",
       "std       1.429470             0.503846     5.097809   62352.957818\n",
       "min      10.100000             0.900000     2.000000   15482.520000\n",
       "25%      14.000000             2.000000     4.000000   54188.820000\n",
       "50%      15.600000             2.500000     8.000000   88001.220000\n",
       "75%      15.600000             2.700000     8.000000  133158.570000\n",
       "max      18.400000             3.600000    64.000000  542689.020000"
      ]
     },
     "execution_count": 25,
     "metadata": {},
     "output_type": "execute_result"
    }
   ],
   "source": [
    "laptop_df.describe()"
   ]
  },
  {
   "cell_type": "markdown",
   "id": "155f6e51-9136-4867-826a-0ce7b4f185db",
   "metadata": {},
   "source": [
    "#### Correlation"
   ]
  },
  {
   "cell_type": "code",
   "execution_count": 26,
   "id": "f2d3822f-6a90-48e3-b36f-95eb830cf964",
   "metadata": {},
   "outputs": [
    {
     "data": {
      "text/html": [
       "<div>\n",
       "<style scoped>\n",
       "    .dataframe tbody tr th:only-of-type {\n",
       "        vertical-align: middle;\n",
       "    }\n",
       "\n",
       "    .dataframe tbody tr th {\n",
       "        vertical-align: top;\n",
       "    }\n",
       "\n",
       "    .dataframe thead th {\n",
       "        text-align: right;\n",
       "    }\n",
       "</style>\n",
       "<table border=\"1\" class=\"dataframe\">\n",
       "  <thead>\n",
       "    <tr style=\"text-align: right;\">\n",
       "      <th></th>\n",
       "      <th>Inches</th>\n",
       "      <th>CPU_Frequency (GHz)</th>\n",
       "      <th>RAM (GB)</th>\n",
       "      <th>Price (Rupee)</th>\n",
       "    </tr>\n",
       "  </thead>\n",
       "  <tbody>\n",
       "    <tr>\n",
       "      <th>Inches</th>\n",
       "      <td>1.000000</td>\n",
       "      <td>0.305037</td>\n",
       "      <td>0.241078</td>\n",
       "      <td>0.066608</td>\n",
       "    </tr>\n",
       "    <tr>\n",
       "      <th>CPU_Frequency (GHz)</th>\n",
       "      <td>0.305037</td>\n",
       "      <td>1.000000</td>\n",
       "      <td>0.366254</td>\n",
       "      <td>0.428847</td>\n",
       "    </tr>\n",
       "    <tr>\n",
       "      <th>RAM (GB)</th>\n",
       "      <td>0.241078</td>\n",
       "      <td>0.366254</td>\n",
       "      <td>1.000000</td>\n",
       "      <td>0.740287</td>\n",
       "    </tr>\n",
       "    <tr>\n",
       "      <th>Price (Rupee)</th>\n",
       "      <td>0.066608</td>\n",
       "      <td>0.428847</td>\n",
       "      <td>0.740287</td>\n",
       "      <td>1.000000</td>\n",
       "    </tr>\n",
       "  </tbody>\n",
       "</table>\n",
       "</div>"
      ],
      "text/plain": [
       "                       Inches  CPU_Frequency (GHz)  RAM (GB)  Price (Rupee)\n",
       "Inches               1.000000             0.305037  0.241078       0.066608\n",
       "CPU_Frequency (GHz)  0.305037             1.000000  0.366254       0.428847\n",
       "RAM (GB)             0.241078             0.366254  1.000000       0.740287\n",
       "Price (Rupee)        0.066608             0.428847  0.740287       1.000000"
      ]
     },
     "execution_count": 26,
     "metadata": {},
     "output_type": "execute_result"
    }
   ],
   "source": [
    "laptop_df.select_dtypes(include='number').corr()"
   ]
  },
  {
   "cell_type": "markdown",
   "id": "72cc3f51-c12c-4ea1-a186-d91d1cc8f189",
   "metadata": {},
   "source": [
    "## Data Splitting"
   ]
  },
  {
   "cell_type": "code",
   "execution_count": 27,
   "id": "872b15f5-af86-443e-a2a6-24c4e34ff04a",
   "metadata": {},
   "outputs": [
    {
     "data": {
      "text/plain": [
       "((1275, 13), (1275,))"
      ]
     },
     "execution_count": 27,
     "metadata": {},
     "output_type": "execute_result"
    }
   ],
   "source": [
    "X = laptop_df.drop(columns='Price (Rupee)')\n",
    "Y = laptop_df['Price (Rupee)']\n",
    "X.shape, Y.shape"
   ]
  },
  {
   "cell_type": "markdown",
   "id": "a8ec17f1-a5f7-4155-9ec4-7cffb23ff615",
   "metadata": {},
   "source": [
    "## Data Preprocessing"
   ]
  },
  {
   "cell_type": "markdown",
   "id": "aad4ff00-80f5-4ab9-9650-b88aa7e56e20",
   "metadata": {},
   "source": [
    "#### Column Transformer"
   ]
  },
  {
   "cell_type": "code",
   "execution_count": 29,
   "id": "921e5c9c-3686-477a-bc25-2b759a7b94bb",
   "metadata": {},
   "outputs": [],
   "source": [
    "RAMs = np.sort(laptop_df['RAM (GB)'].unique())"
   ]
  },
  {
   "cell_type": "code",
   "execution_count": 30,
   "id": "b5cb36c2-13cd-4318-b161-670407100c13",
   "metadata": {},
   "outputs": [
    {
     "data": {
      "text/html": [
       "<style>#sk-container-id-1 {color: black;background-color: white;}#sk-container-id-1 pre{padding: 0;}#sk-container-id-1 div.sk-toggleable {background-color: white;}#sk-container-id-1 label.sk-toggleable__label {cursor: pointer;display: block;width: 100%;margin-bottom: 0;padding: 0.3em;box-sizing: border-box;text-align: center;}#sk-container-id-1 label.sk-toggleable__label-arrow:before {content: \"▸\";float: left;margin-right: 0.25em;color: #696969;}#sk-container-id-1 label.sk-toggleable__label-arrow:hover:before {color: black;}#sk-container-id-1 div.sk-estimator:hover label.sk-toggleable__label-arrow:before {color: black;}#sk-container-id-1 div.sk-toggleable__content {max-height: 0;max-width: 0;overflow: hidden;text-align: left;background-color: #f0f8ff;}#sk-container-id-1 div.sk-toggleable__content pre {margin: 0.2em;color: black;border-radius: 0.25em;background-color: #f0f8ff;}#sk-container-id-1 input.sk-toggleable__control:checked~div.sk-toggleable__content {max-height: 200px;max-width: 100%;overflow: auto;}#sk-container-id-1 input.sk-toggleable__control:checked~label.sk-toggleable__label-arrow:before {content: \"▾\";}#sk-container-id-1 div.sk-estimator input.sk-toggleable__control:checked~label.sk-toggleable__label {background-color: #d4ebff;}#sk-container-id-1 div.sk-label input.sk-toggleable__control:checked~label.sk-toggleable__label {background-color: #d4ebff;}#sk-container-id-1 input.sk-hidden--visually {border: 0;clip: rect(1px 1px 1px 1px);clip: rect(1px, 1px, 1px, 1px);height: 1px;margin: -1px;overflow: hidden;padding: 0;position: absolute;width: 1px;}#sk-container-id-1 div.sk-estimator {font-family: monospace;background-color: #f0f8ff;border: 1px dotted black;border-radius: 0.25em;box-sizing: border-box;margin-bottom: 0.5em;}#sk-container-id-1 div.sk-estimator:hover {background-color: #d4ebff;}#sk-container-id-1 div.sk-parallel-item::after {content: \"\";width: 100%;border-bottom: 1px solid gray;flex-grow: 1;}#sk-container-id-1 div.sk-label:hover label.sk-toggleable__label {background-color: #d4ebff;}#sk-container-id-1 div.sk-serial::before {content: \"\";position: absolute;border-left: 1px solid gray;box-sizing: border-box;top: 0;bottom: 0;left: 50%;z-index: 0;}#sk-container-id-1 div.sk-serial {display: flex;flex-direction: column;align-items: center;background-color: white;padding-right: 0.2em;padding-left: 0.2em;position: relative;}#sk-container-id-1 div.sk-item {position: relative;z-index: 1;}#sk-container-id-1 div.sk-parallel {display: flex;align-items: stretch;justify-content: center;background-color: white;position: relative;}#sk-container-id-1 div.sk-item::before, #sk-container-id-1 div.sk-parallel-item::before {content: \"\";position: absolute;border-left: 1px solid gray;box-sizing: border-box;top: 0;bottom: 0;left: 50%;z-index: -1;}#sk-container-id-1 div.sk-parallel-item {display: flex;flex-direction: column;z-index: 1;position: relative;background-color: white;}#sk-container-id-1 div.sk-parallel-item:first-child::after {align-self: flex-end;width: 50%;}#sk-container-id-1 div.sk-parallel-item:last-child::after {align-self: flex-start;width: 50%;}#sk-container-id-1 div.sk-parallel-item:only-child::after {width: 0;}#sk-container-id-1 div.sk-dashed-wrapped {border: 1px dashed gray;margin: 0 0.4em 0.5em 0.4em;box-sizing: border-box;padding-bottom: 0.4em;background-color: white;}#sk-container-id-1 div.sk-label label {font-family: monospace;font-weight: bold;display: inline-block;line-height: 1.2em;}#sk-container-id-1 div.sk-label-container {text-align: center;}#sk-container-id-1 div.sk-container {/* jupyter's `normalize.less` sets `[hidden] { display: none; }` but bootstrap.min.css set `[hidden] { display: none !important; }` so we also need the `!important` here to be able to override the default hidden behavior on the sphinx rendered scikit-learn.org. See: https://github.com/scikit-learn/scikit-learn/issues/21755 */display: inline-block !important;position: relative;}#sk-container-id-1 div.sk-text-repr-fallback {display: none;}</style><div id=\"sk-container-id-1\" class=\"sk-top-container\"><div class=\"sk-text-repr-fallback\"><pre>ColumnTransformer(sparse_threshold=0,\n",
       "                  transformers=[(&#x27;encoder&#x27;,\n",
       "                                 OrdinalEncoder(categories=[array([ 2,  4,  6,  8, 12, 16, 24, 32, 64], dtype=int64),\n",
       "                                                            [&#x27;ARM&#x27;, &#x27;AMD&#x27;,\n",
       "                                                             &#x27;Intel&#x27;,\n",
       "                                                             &#x27;Nvidia&#x27;],\n",
       "                                                            [&#x27;AMD&#x27;, &#x27;Samsung&#x27;,\n",
       "                                                             &#x27;Intel&#x27;],\n",
       "                                                            [&#x27;Netbook&#x27;,\n",
       "                                                             &#x27;Notebook&#x27;,\n",
       "                                                             &#x27;2 in 1 &#x27;\n",
       "                                                             &#x27;Convertible&#x27;,\n",
       "                                                             &#x27;Ultrabook&#x27;,\n",
       "                                                             &#x27;Gaming&#x27;,\n",
       "                                                             &#x27;Workstation&#x27;],\n",
       "                                                            [&#x27;Android&#x27;,\n",
       "                                                             &#x27;Chrome OS&#x27;,\n",
       "                                                             &#x27;No OS&#x27;, &#x27;Linux&#x27;,\n",
       "                                                             &#x27;Windows 10&#x27;,\n",
       "                                                             &#x27;Mac OS X&#x27;,\n",
       "                                                             &#x27;Windows 10 S&#x27;,\n",
       "                                                             &#x27;Windows 7&#x27;,\n",
       "                                                             &#x27;macOS&#x27;]]),\n",
       "                                 [&#x27;RAM (GB)&#x27;, &#x27;GPU_Company&#x27;, &#x27;CPU_Company&#x27;,\n",
       "                                  &#x27;TypeName&#x27;, &#x27;OpSys&#x27;]),\n",
       "                                (&#x27;onehot&#x27;,\n",
       "                                 OneHotEncoder(drop=&#x27;first&#x27;,\n",
       "                                               handle_unknown=&#x27;ignore&#x27;,\n",
       "                                               sparse_output=False),\n",
       "                                 [&#x27;Company&#x27;, &#x27;Inches&#x27;, &#x27;CPU_Frequency (GHz)&#x27;])])</pre><b>In a Jupyter environment, please rerun this cell to show the HTML representation or trust the notebook. <br />On GitHub, the HTML representation is unable to render, please try loading this page with nbviewer.org.</b></div><div class=\"sk-container\" hidden><div class=\"sk-item sk-dashed-wrapped\"><div class=\"sk-label-container\"><div class=\"sk-label sk-toggleable\"><input class=\"sk-toggleable__control sk-hidden--visually\" id=\"sk-estimator-id-1\" type=\"checkbox\" ><label for=\"sk-estimator-id-1\" class=\"sk-toggleable__label sk-toggleable__label-arrow\">ColumnTransformer</label><div class=\"sk-toggleable__content\"><pre>ColumnTransformer(sparse_threshold=0,\n",
       "                  transformers=[(&#x27;encoder&#x27;,\n",
       "                                 OrdinalEncoder(categories=[array([ 2,  4,  6,  8, 12, 16, 24, 32, 64], dtype=int64),\n",
       "                                                            [&#x27;ARM&#x27;, &#x27;AMD&#x27;,\n",
       "                                                             &#x27;Intel&#x27;,\n",
       "                                                             &#x27;Nvidia&#x27;],\n",
       "                                                            [&#x27;AMD&#x27;, &#x27;Samsung&#x27;,\n",
       "                                                             &#x27;Intel&#x27;],\n",
       "                                                            [&#x27;Netbook&#x27;,\n",
       "                                                             &#x27;Notebook&#x27;,\n",
       "                                                             &#x27;2 in 1 &#x27;\n",
       "                                                             &#x27;Convertible&#x27;,\n",
       "                                                             &#x27;Ultrabook&#x27;,\n",
       "                                                             &#x27;Gaming&#x27;,\n",
       "                                                             &#x27;Workstation&#x27;],\n",
       "                                                            [&#x27;Android&#x27;,\n",
       "                                                             &#x27;Chrome OS&#x27;,\n",
       "                                                             &#x27;No OS&#x27;, &#x27;Linux&#x27;,\n",
       "                                                             &#x27;Windows 10&#x27;,\n",
       "                                                             &#x27;Mac OS X&#x27;,\n",
       "                                                             &#x27;Windows 10 S&#x27;,\n",
       "                                                             &#x27;Windows 7&#x27;,\n",
       "                                                             &#x27;macOS&#x27;]]),\n",
       "                                 [&#x27;RAM (GB)&#x27;, &#x27;GPU_Company&#x27;, &#x27;CPU_Company&#x27;,\n",
       "                                  &#x27;TypeName&#x27;, &#x27;OpSys&#x27;]),\n",
       "                                (&#x27;onehot&#x27;,\n",
       "                                 OneHotEncoder(drop=&#x27;first&#x27;,\n",
       "                                               handle_unknown=&#x27;ignore&#x27;,\n",
       "                                               sparse_output=False),\n",
       "                                 [&#x27;Company&#x27;, &#x27;Inches&#x27;, &#x27;CPU_Frequency (GHz)&#x27;])])</pre></div></div></div><div class=\"sk-parallel\"><div class=\"sk-parallel-item\"><div class=\"sk-item\"><div class=\"sk-label-container\"><div class=\"sk-label sk-toggleable\"><input class=\"sk-toggleable__control sk-hidden--visually\" id=\"sk-estimator-id-2\" type=\"checkbox\" ><label for=\"sk-estimator-id-2\" class=\"sk-toggleable__label sk-toggleable__label-arrow\">encoder</label><div class=\"sk-toggleable__content\"><pre>[&#x27;RAM (GB)&#x27;, &#x27;GPU_Company&#x27;, &#x27;CPU_Company&#x27;, &#x27;TypeName&#x27;, &#x27;OpSys&#x27;]</pre></div></div></div><div class=\"sk-serial\"><div class=\"sk-item\"><div class=\"sk-estimator sk-toggleable\"><input class=\"sk-toggleable__control sk-hidden--visually\" id=\"sk-estimator-id-3\" type=\"checkbox\" ><label for=\"sk-estimator-id-3\" class=\"sk-toggleable__label sk-toggleable__label-arrow\">OrdinalEncoder</label><div class=\"sk-toggleable__content\"><pre>OrdinalEncoder(categories=[array([ 2,  4,  6,  8, 12, 16, 24, 32, 64], dtype=int64),\n",
       "                           [&#x27;ARM&#x27;, &#x27;AMD&#x27;, &#x27;Intel&#x27;, &#x27;Nvidia&#x27;],\n",
       "                           [&#x27;AMD&#x27;, &#x27;Samsung&#x27;, &#x27;Intel&#x27;],\n",
       "                           [&#x27;Netbook&#x27;, &#x27;Notebook&#x27;, &#x27;2 in 1 Convertible&#x27;,\n",
       "                            &#x27;Ultrabook&#x27;, &#x27;Gaming&#x27;, &#x27;Workstation&#x27;],\n",
       "                           [&#x27;Android&#x27;, &#x27;Chrome OS&#x27;, &#x27;No OS&#x27;, &#x27;Linux&#x27;,\n",
       "                            &#x27;Windows 10&#x27;, &#x27;Mac OS X&#x27;, &#x27;Windows 10 S&#x27;,\n",
       "                            &#x27;Windows 7&#x27;, &#x27;macOS&#x27;]])</pre></div></div></div></div></div></div><div class=\"sk-parallel-item\"><div class=\"sk-item\"><div class=\"sk-label-container\"><div class=\"sk-label sk-toggleable\"><input class=\"sk-toggleable__control sk-hidden--visually\" id=\"sk-estimator-id-4\" type=\"checkbox\" ><label for=\"sk-estimator-id-4\" class=\"sk-toggleable__label sk-toggleable__label-arrow\">onehot</label><div class=\"sk-toggleable__content\"><pre>[&#x27;Company&#x27;, &#x27;Inches&#x27;, &#x27;CPU_Frequency (GHz)&#x27;]</pre></div></div></div><div class=\"sk-serial\"><div class=\"sk-item\"><div class=\"sk-estimator sk-toggleable\"><input class=\"sk-toggleable__control sk-hidden--visually\" id=\"sk-estimator-id-5\" type=\"checkbox\" ><label for=\"sk-estimator-id-5\" class=\"sk-toggleable__label sk-toggleable__label-arrow\">OneHotEncoder</label><div class=\"sk-toggleable__content\"><pre>OneHotEncoder(drop=&#x27;first&#x27;, handle_unknown=&#x27;ignore&#x27;, sparse_output=False)</pre></div></div></div></div></div></div></div></div></div></div>"
      ],
      "text/plain": [
       "ColumnTransformer(sparse_threshold=0,\n",
       "                  transformers=[('encoder',\n",
       "                                 OrdinalEncoder(categories=[array([ 2,  4,  6,  8, 12, 16, 24, 32, 64], dtype=int64),\n",
       "                                                            ['ARM', 'AMD',\n",
       "                                                             'Intel',\n",
       "                                                             'Nvidia'],\n",
       "                                                            ['AMD', 'Samsung',\n",
       "                                                             'Intel'],\n",
       "                                                            ['Netbook',\n",
       "                                                             'Notebook',\n",
       "                                                             '2 in 1 '\n",
       "                                                             'Convertible',\n",
       "                                                             'Ultrabook',\n",
       "                                                             'Gaming',\n",
       "                                                             'Workstation'],\n",
       "                                                            ['Android',\n",
       "                                                             'Chrome OS',\n",
       "                                                             'No OS', 'Linux',\n",
       "                                                             'Windows 10',\n",
       "                                                             'Mac OS X',\n",
       "                                                             'Windows 10 S',\n",
       "                                                             'Windows 7',\n",
       "                                                             'macOS']]),\n",
       "                                 ['RAM (GB)', 'GPU_Company', 'CPU_Company',\n",
       "                                  'TypeName', 'OpSys']),\n",
       "                                ('onehot',\n",
       "                                 OneHotEncoder(drop='first',\n",
       "                                               handle_unknown='ignore',\n",
       "                                               sparse_output=False),\n",
       "                                 ['Company', 'Inches', 'CPU_Frequency (GHz)'])])"
      ]
     },
     "execution_count": 30,
     "metadata": {},
     "output_type": "execute_result"
    }
   ],
   "source": [
    "from sklearn.compose import ColumnTransformer\n",
    "from sklearn.preprocessing import OrdinalEncoder\n",
    "from sklearn.preprocessing import OneHotEncoder\n",
    "\n",
    "ct = ColumnTransformer(transformers=[('encoder', OrdinalEncoder(categories=[RAMs,\n",
    "                                                                            ['ARM','AMD','Intel','Nvidia'],\n",
    "                                                                            ['AMD','Samsung','Intel'],\n",
    "                                                                            ['Netbook','Notebook','2 in 1 Convertible','Ultrabook','Gaming','Workstation'],\n",
    "                                                                            ['Android','Chrome OS','No OS','Linux','Windows 10','Mac OS X','Windows 10 S','Windows 7','macOS']]), \n",
    "                                      ['RAM (GB)', 'GPU_Company', 'CPU_Company', 'TypeName', 'OpSys']),\n",
    "                                     ('onehot', OneHotEncoder(drop='first', sparse_output=False, handle_unknown='ignore'),\n",
    "                                      ['Company', 'Inches', 'CPU_Frequency (GHz)'])], \n",
    "                       remainder='drop', sparse_threshold=0)\n",
    "ct"
   ]
  },
  {
   "cell_type": "markdown",
   "id": "33ce3991-69ee-4306-8010-dbaf365bb065",
   "metadata": {},
   "source": [
    "#### TF-IDF"
   ]
  },
  {
   "cell_type": "markdown",
   "id": "c3d4f77b-f6d2-4bbd-8357-99a81b99124e",
   "metadata": {},
   "source": [
    "##### Analyzer"
   ]
  },
  {
   "cell_type": "code",
   "execution_count": 48,
   "id": "61eb6a57-105b-4b26-87fc-8b8bc8ca9f85",
   "metadata": {},
   "outputs": [],
   "source": [
    "from nltk.corpus import stopwords\n",
    "from nltk.tokenize import word_tokenize\n",
    "from nltk.stem import PorterStemmer\n",
    "\n",
    "def Analyzer(text):\n",
    "    return ' '.join([PorterStemmer().stem(token) for token in word_tokenize(text) if token not in stopwords.words('english')])"
   ]
  },
  {
   "cell_type": "code",
   "execution_count": 52,
   "id": "1c0e5d3e-2db2-44d7-bd98-f08c97c349a3",
   "metadata": {},
   "outputs": [
    {
     "data": {
      "text/html": [
       "<style>#sk-container-id-2 {color: black;background-color: white;}#sk-container-id-2 pre{padding: 0;}#sk-container-id-2 div.sk-toggleable {background-color: white;}#sk-container-id-2 label.sk-toggleable__label {cursor: pointer;display: block;width: 100%;margin-bottom: 0;padding: 0.3em;box-sizing: border-box;text-align: center;}#sk-container-id-2 label.sk-toggleable__label-arrow:before {content: \"▸\";float: left;margin-right: 0.25em;color: #696969;}#sk-container-id-2 label.sk-toggleable__label-arrow:hover:before {color: black;}#sk-container-id-2 div.sk-estimator:hover label.sk-toggleable__label-arrow:before {color: black;}#sk-container-id-2 div.sk-toggleable__content {max-height: 0;max-width: 0;overflow: hidden;text-align: left;background-color: #f0f8ff;}#sk-container-id-2 div.sk-toggleable__content pre {margin: 0.2em;color: black;border-radius: 0.25em;background-color: #f0f8ff;}#sk-container-id-2 input.sk-toggleable__control:checked~div.sk-toggleable__content {max-height: 200px;max-width: 100%;overflow: auto;}#sk-container-id-2 input.sk-toggleable__control:checked~label.sk-toggleable__label-arrow:before {content: \"▾\";}#sk-container-id-2 div.sk-estimator input.sk-toggleable__control:checked~label.sk-toggleable__label {background-color: #d4ebff;}#sk-container-id-2 div.sk-label input.sk-toggleable__control:checked~label.sk-toggleable__label {background-color: #d4ebff;}#sk-container-id-2 input.sk-hidden--visually {border: 0;clip: rect(1px 1px 1px 1px);clip: rect(1px, 1px, 1px, 1px);height: 1px;margin: -1px;overflow: hidden;padding: 0;position: absolute;width: 1px;}#sk-container-id-2 div.sk-estimator {font-family: monospace;background-color: #f0f8ff;border: 1px dotted black;border-radius: 0.25em;box-sizing: border-box;margin-bottom: 0.5em;}#sk-container-id-2 div.sk-estimator:hover {background-color: #d4ebff;}#sk-container-id-2 div.sk-parallel-item::after {content: \"\";width: 100%;border-bottom: 1px solid gray;flex-grow: 1;}#sk-container-id-2 div.sk-label:hover label.sk-toggleable__label {background-color: #d4ebff;}#sk-container-id-2 div.sk-serial::before {content: \"\";position: absolute;border-left: 1px solid gray;box-sizing: border-box;top: 0;bottom: 0;left: 50%;z-index: 0;}#sk-container-id-2 div.sk-serial {display: flex;flex-direction: column;align-items: center;background-color: white;padding-right: 0.2em;padding-left: 0.2em;position: relative;}#sk-container-id-2 div.sk-item {position: relative;z-index: 1;}#sk-container-id-2 div.sk-parallel {display: flex;align-items: stretch;justify-content: center;background-color: white;position: relative;}#sk-container-id-2 div.sk-item::before, #sk-container-id-2 div.sk-parallel-item::before {content: \"\";position: absolute;border-left: 1px solid gray;box-sizing: border-box;top: 0;bottom: 0;left: 50%;z-index: -1;}#sk-container-id-2 div.sk-parallel-item {display: flex;flex-direction: column;z-index: 1;position: relative;background-color: white;}#sk-container-id-2 div.sk-parallel-item:first-child::after {align-self: flex-end;width: 50%;}#sk-container-id-2 div.sk-parallel-item:last-child::after {align-self: flex-start;width: 50%;}#sk-container-id-2 div.sk-parallel-item:only-child::after {width: 0;}#sk-container-id-2 div.sk-dashed-wrapped {border: 1px dashed gray;margin: 0 0.4em 0.5em 0.4em;box-sizing: border-box;padding-bottom: 0.4em;background-color: white;}#sk-container-id-2 div.sk-label label {font-family: monospace;font-weight: bold;display: inline-block;line-height: 1.2em;}#sk-container-id-2 div.sk-label-container {text-align: center;}#sk-container-id-2 div.sk-container {/* jupyter's `normalize.less` sets `[hidden] { display: none; }` but bootstrap.min.css set `[hidden] { display: none !important; }` so we also need the `!important` here to be able to override the default hidden behavior on the sphinx rendered scikit-learn.org. See: https://github.com/scikit-learn/scikit-learn/issues/21755 */display: inline-block !important;position: relative;}#sk-container-id-2 div.sk-text-repr-fallback {display: none;}</style><div id=\"sk-container-id-2\" class=\"sk-top-container\"><div class=\"sk-text-repr-fallback\"><pre>TfidfVectorizer(analyzer=&lt;function Analyzer at 0x000002155A99D6C0&gt;)</pre><b>In a Jupyter environment, please rerun this cell to show the HTML representation or trust the notebook. <br />On GitHub, the HTML representation is unable to render, please try loading this page with nbviewer.org.</b></div><div class=\"sk-container\" hidden><div class=\"sk-item\"><div class=\"sk-estimator sk-toggleable\"><input class=\"sk-toggleable__control sk-hidden--visually\" id=\"sk-estimator-id-6\" type=\"checkbox\" checked><label for=\"sk-estimator-id-6\" class=\"sk-toggleable__label sk-toggleable__label-arrow\">TfidfVectorizer</label><div class=\"sk-toggleable__content\"><pre>TfidfVectorizer(analyzer=&lt;function Analyzer at 0x000002155A99D6C0&gt;)</pre></div></div></div></div></div>"
      ],
      "text/plain": [
       "TfidfVectorizer(analyzer=<function Analyzer at 0x000002155A99D6C0>)"
      ]
     },
     "execution_count": 52,
     "metadata": {},
     "output_type": "execute_result"
    }
   ],
   "source": [
    "from sklearn.feature_extraction.text import TfidfVectorizer\n",
    "\n",
    "tfidf = TfidfVectorizer(analyzer=Analyzer)\n",
    "\n",
    "tfidf"
   ]
  },
  {
   "cell_type": "code",
   "execution_count": 55,
   "id": "578ed75b-440f-48ce-89e3-b86541a210db",
   "metadata": {},
   "outputs": [
    {
     "data": {
      "text/plain": [
       "(1275, 49)"
      ]
     },
     "execution_count": 55,
     "metadata": {},
     "output_type": "execute_result"
    }
   ],
   "source": [
    "X1_preprocessed = pd.DataFrame(tfidf.fit_transform(laptop_df['Features']).toarray())\n",
    "X1_preprocessed.shape"
   ]
  },
  {
   "cell_type": "code",
   "execution_count": 57,
   "id": "670f3579-fd34-434b-afeb-7957ee3f1164",
   "metadata": {},
   "outputs": [
    {
     "data": {
      "text/plain": [
       "(1275, 64)"
      ]
     },
     "execution_count": 57,
     "metadata": {},
     "output_type": "execute_result"
    }
   ],
   "source": [
    "X2_preprocessed = pd.DataFrame(ct.fit_transform(X))\n",
    "X2_preprocessed.shape"
   ]
  },
  {
   "cell_type": "markdown",
   "id": "5cb4ca33-bec4-46d9-b086-9446f96ef054",
   "metadata": {},
   "source": [
    "##### Concate X1 and X2"
   ]
  },
  {
   "cell_type": "code",
   "execution_count": 58,
   "id": "919fceb2-77e3-4652-abfc-5cc0dce1a3c5",
   "metadata": {},
   "outputs": [
    {
     "data": {
      "text/plain": [
       "(1275, 113)"
      ]
     },
     "execution_count": 58,
     "metadata": {},
     "output_type": "execute_result"
    }
   ],
   "source": [
    "X_preprocessed = pd.concat([X1_preprocessed, X2_preprocessed], axis = 1, ignore_index=True)\n",
    "X_preprocessed.shape"
   ]
  },
  {
   "cell_type": "markdown",
   "id": "586434ec-95f7-4579-b949-381e34acc7f7",
   "metadata": {},
   "source": [
    "## Data Splitting 2"
   ]
  },
  {
   "cell_type": "code",
   "execution_count": 59,
   "id": "e5d0dd1c-779d-4687-bbc6-05e818915155",
   "metadata": {},
   "outputs": [
    {
     "data": {
      "text/plain": [
       "((1020, 113), (1020,))"
      ]
     },
     "execution_count": 59,
     "metadata": {},
     "output_type": "execute_result"
    }
   ],
   "source": [
    "from sklearn.model_selection import train_test_split\n",
    "X_train, X_test, y_train, y_test = train_test_split(X_preprocessed, Y, test_size=0.2, random_state=42)\n",
    "X_train.shape, y_train.shape"
   ]
  },
  {
   "cell_type": "markdown",
   "id": "190b6192-8e23-4e0e-8272-4069ad5951b8",
   "metadata": {},
   "source": [
    "## Model Selection"
   ]
  },
  {
   "cell_type": "code",
   "execution_count": 60,
   "id": "32eb4176-9613-4354-9bdb-17d043309bcf",
   "metadata": {},
   "outputs": [],
   "source": [
    "from sklearn.linear_model import LinearRegression\n",
    "from sklearn.neighbors import KNeighborsRegressor\n",
    "from sklearn.tree import DecisionTreeRegressor\n",
    "from sklearn.ensemble import RandomForestRegressor, ExtraTreesRegressor, GradientBoostingRegressor, HistGradientBoostingRegressor\n",
    "from sklearn.svm import SVR\n",
    "\n",
    "models = {\n",
    "    'lin_reg': LinearRegression(),\n",
    "    'knn': KNeighborsRegressor(),\n",
    "    'dt': DecisionTreeRegressor(),\n",
    "    'random': RandomForestRegressor(),\n",
    "    'extra': ExtraTreesRegressor(),\n",
    "    'gbt': GradientBoostingRegressor(),\n",
    "    'hgbt': HistGradientBoostingRegressor(),\n",
    "    'svm': SVR()\n",
    "}"
   ]
  },
  {
   "cell_type": "code",
   "execution_count": 61,
   "id": "4c6f0620-230d-40f0-91ec-884de5240301",
   "metadata": {},
   "outputs": [
    {
     "name": "stdout",
     "output_type": "stream",
     "text": [
      "lin_reg: \n",
      "[-2.42042744e+01  7.85446248e-01  8.03250321e-01  7.37159007e-01\n",
      " -2.65570931e+20] \t -5.311418619396133e+19\n",
      "--------------------------------\n",
      "knn: \n",
      "[0.71201462 0.75481149 0.69937711 0.72014696 0.78067821] \t 0.7334056783786007\n",
      "--------------------------------\n",
      "dt: \n",
      "[0.49784623 0.51588053 0.63789875 0.62971188 0.59017332] \t 0.5743021411516843\n",
      "--------------------------------\n",
      "random: \n",
      "[0.81141781 0.83356913 0.81251405 0.75183491 0.7352386 ] \t 0.7889149006307469\n",
      "--------------------------------\n",
      "extra: \n",
      "[0.86022706 0.85186849 0.77974435 0.79774057 0.76481636] \t 0.8108793655772907\n",
      "--------------------------------\n",
      "gbt: \n",
      "[0.85001057 0.81393121 0.81115766 0.78973198 0.75145215] \t 0.8032567145334426\n",
      "--------------------------------\n",
      "hgbt: \n",
      "[0.80784696 0.84289696 0.81709887 0.75798074 0.76322848] \t 0.7978104035777088\n",
      "--------------------------------\n",
      "svm: \n",
      "[-0.00022239 -0.03747532 -0.0264079  -0.20786427 -0.0712774 ] \t -0.06864945648800788\n",
      "--------------------------------\n"
     ]
    }
   ],
   "source": [
    "from sklearn.model_selection import cross_val_score\n",
    "\n",
    "for i in models.keys():\n",
    "    scores = cross_val_score(models[i], X_preprocessed, Y, cv = 5)\n",
    "    print(f'{i}: ')\n",
    "    print(f'{scores} \\t {scores.mean()}')\n",
    "    print('--------------------------------')"
   ]
  },
  {
   "cell_type": "markdown",
   "id": "f755899e-2c76-4978-91ac-aec621741dc3",
   "metadata": {},
   "source": [
    "## Model Building"
   ]
  },
  {
   "cell_type": "code",
   "execution_count": 73,
   "id": "ab2fcef4-8ab7-4157-bc71-7e518cd511c5",
   "metadata": {},
   "outputs": [
    {
     "data": {
      "text/html": [
       "<style>#sk-container-id-9 {color: black;background-color: white;}#sk-container-id-9 pre{padding: 0;}#sk-container-id-9 div.sk-toggleable {background-color: white;}#sk-container-id-9 label.sk-toggleable__label {cursor: pointer;display: block;width: 100%;margin-bottom: 0;padding: 0.3em;box-sizing: border-box;text-align: center;}#sk-container-id-9 label.sk-toggleable__label-arrow:before {content: \"▸\";float: left;margin-right: 0.25em;color: #696969;}#sk-container-id-9 label.sk-toggleable__label-arrow:hover:before {color: black;}#sk-container-id-9 div.sk-estimator:hover label.sk-toggleable__label-arrow:before {color: black;}#sk-container-id-9 div.sk-toggleable__content {max-height: 0;max-width: 0;overflow: hidden;text-align: left;background-color: #f0f8ff;}#sk-container-id-9 div.sk-toggleable__content pre {margin: 0.2em;color: black;border-radius: 0.25em;background-color: #f0f8ff;}#sk-container-id-9 input.sk-toggleable__control:checked~div.sk-toggleable__content {max-height: 200px;max-width: 100%;overflow: auto;}#sk-container-id-9 input.sk-toggleable__control:checked~label.sk-toggleable__label-arrow:before {content: \"▾\";}#sk-container-id-9 div.sk-estimator input.sk-toggleable__control:checked~label.sk-toggleable__label {background-color: #d4ebff;}#sk-container-id-9 div.sk-label input.sk-toggleable__control:checked~label.sk-toggleable__label {background-color: #d4ebff;}#sk-container-id-9 input.sk-hidden--visually {border: 0;clip: rect(1px 1px 1px 1px);clip: rect(1px, 1px, 1px, 1px);height: 1px;margin: -1px;overflow: hidden;padding: 0;position: absolute;width: 1px;}#sk-container-id-9 div.sk-estimator {font-family: monospace;background-color: #f0f8ff;border: 1px dotted black;border-radius: 0.25em;box-sizing: border-box;margin-bottom: 0.5em;}#sk-container-id-9 div.sk-estimator:hover {background-color: #d4ebff;}#sk-container-id-9 div.sk-parallel-item::after {content: \"\";width: 100%;border-bottom: 1px solid gray;flex-grow: 1;}#sk-container-id-9 div.sk-label:hover label.sk-toggleable__label {background-color: #d4ebff;}#sk-container-id-9 div.sk-serial::before {content: \"\";position: absolute;border-left: 1px solid gray;box-sizing: border-box;top: 0;bottom: 0;left: 50%;z-index: 0;}#sk-container-id-9 div.sk-serial {display: flex;flex-direction: column;align-items: center;background-color: white;padding-right: 0.2em;padding-left: 0.2em;position: relative;}#sk-container-id-9 div.sk-item {position: relative;z-index: 1;}#sk-container-id-9 div.sk-parallel {display: flex;align-items: stretch;justify-content: center;background-color: white;position: relative;}#sk-container-id-9 div.sk-item::before, #sk-container-id-9 div.sk-parallel-item::before {content: \"\";position: absolute;border-left: 1px solid gray;box-sizing: border-box;top: 0;bottom: 0;left: 50%;z-index: -1;}#sk-container-id-9 div.sk-parallel-item {display: flex;flex-direction: column;z-index: 1;position: relative;background-color: white;}#sk-container-id-9 div.sk-parallel-item:first-child::after {align-self: flex-end;width: 50%;}#sk-container-id-9 div.sk-parallel-item:last-child::after {align-self: flex-start;width: 50%;}#sk-container-id-9 div.sk-parallel-item:only-child::after {width: 0;}#sk-container-id-9 div.sk-dashed-wrapped {border: 1px dashed gray;margin: 0 0.4em 0.5em 0.4em;box-sizing: border-box;padding-bottom: 0.4em;background-color: white;}#sk-container-id-9 div.sk-label label {font-family: monospace;font-weight: bold;display: inline-block;line-height: 1.2em;}#sk-container-id-9 div.sk-label-container {text-align: center;}#sk-container-id-9 div.sk-container {/* jupyter's `normalize.less` sets `[hidden] { display: none; }` but bootstrap.min.css set `[hidden] { display: none !important; }` so we also need the `!important` here to be able to override the default hidden behavior on the sphinx rendered scikit-learn.org. See: https://github.com/scikit-learn/scikit-learn/issues/21755 */display: inline-block !important;position: relative;}#sk-container-id-9 div.sk-text-repr-fallback {display: none;}</style><div id=\"sk-container-id-9\" class=\"sk-top-container\"><div class=\"sk-text-repr-fallback\"><pre>GradientBoostingRegressor()</pre><b>In a Jupyter environment, please rerun this cell to show the HTML representation or trust the notebook. <br />On GitHub, the HTML representation is unable to render, please try loading this page with nbviewer.org.</b></div><div class=\"sk-container\" hidden><div class=\"sk-item\"><div class=\"sk-estimator sk-toggleable\"><input class=\"sk-toggleable__control sk-hidden--visually\" id=\"sk-estimator-id-13\" type=\"checkbox\" checked><label for=\"sk-estimator-id-13\" class=\"sk-toggleable__label sk-toggleable__label-arrow\">GradientBoostingRegressor</label><div class=\"sk-toggleable__content\"><pre>GradientBoostingRegressor()</pre></div></div></div></div></div>"
      ],
      "text/plain": [
       "GradientBoostingRegressor()"
      ]
     },
     "execution_count": 73,
     "metadata": {},
     "output_type": "execute_result"
    }
   ],
   "source": [
    "model = GradientBoostingRegressor()\n",
    "model.fit(X_train, y_train)"
   ]
  },
  {
   "cell_type": "markdown",
   "id": "667b6620-fd82-4bb3-8ac4-43106047b8a6",
   "metadata": {},
   "source": [
    "## Model Evaluation"
   ]
  },
  {
   "cell_type": "code",
   "execution_count": 74,
   "id": "a8d3bb1d-f33c-435f-9986-3ece8d53b0fe",
   "metadata": {},
   "outputs": [
    {
     "name": "stdout",
     "output_type": "stream",
     "text": [
      "r-squared score: 0.8654961661319266\n",
      "MSE: 528564640.555202\n"
     ]
    }
   ],
   "source": [
    "from sklearn.metrics import mean_squared_error as mse\n",
    "\n",
    "y_pred = model.predict(X_test)\n",
    "print(f'r-squared score: {model.score(X_test, y_test)}')\n",
    "print(f'MSE: {mse(y_test, y_pred)}')"
   ]
  },
  {
   "cell_type": "code",
   "execution_count": null,
   "id": "0642a320-1fee-4722-87ff-4992e5e0a4a1",
   "metadata": {},
   "outputs": [],
   "source": []
  }
 ],
 "metadata": {
  "kernelspec": {
   "display_name": "Python 3 (ipykernel)",
   "language": "python",
   "name": "python3"
  },
  "language_info": {
   "codemirror_mode": {
    "name": "ipython",
    "version": 3
   },
   "file_extension": ".py",
   "mimetype": "text/x-python",
   "name": "python",
   "nbconvert_exporter": "python",
   "pygments_lexer": "ipython3",
   "version": "3.11.7"
  }
 },
 "nbformat": 4,
 "nbformat_minor": 5
}
